{
 "cells": [
  {
   "cell_type": "markdown",
   "id": "71f582e9",
   "metadata": {},
   "source": [
    "# Formatação de strings\n"
   ]
  },
  {
   "cell_type": "markdown",
   "id": "0eeac2b8",
   "metadata": {},
   "source": [
    "str.format()"
   ]
  },
  {
   "cell_type": "code",
   "execution_count": 1,
   "id": "f993ea5f",
   "metadata": {},
   "outputs": [
    {
     "name": "stdout",
     "output_type": "stream",
     "text": [
      "ola, wesley!\n"
     ]
    }
   ],
   "source": [
    "print('ola, {}!'.format('wesley'))"
   ]
  },
  {
   "cell_type": "code",
   "execution_count": 2,
   "id": "68557200",
   "metadata": {},
   "outputs": [
    {
     "name": "stdout",
     "output_type": "stream",
     "text": [
      "ola, wesley! este é seu acesso de numero 32\n"
     ]
    }
   ],
   "source": [
    "print('ola, {}! este é seu acesso de numero {}'.format('wesley', 32))"
   ]
  },
  {
   "cell_type": "code",
   "execution_count": 3,
   "id": "f26d9b0b",
   "metadata": {},
   "outputs": [
    {
     "name": "stdout",
     "output_type": "stream",
     "text": [
      "ola, wesley! este é seu acesso de numero 32\n"
     ]
    }
   ],
   "source": [
    "print('ola, {nome}! este é seu acesso de numero {acessos}'.format(nome = 'wesley', acessos = 32))"
   ]
  },
  {
   "cell_type": "markdown",
   "id": "8b28b2a7",
   "metadata": {},
   "source": [
    "f-Strings"
   ]
  },
  {
   "cell_type": "code",
   "execution_count": 5,
   "id": "e382c309",
   "metadata": {},
   "outputs": [],
   "source": [
    "nome = 'wesley'\n",
    "acessos = 32"
   ]
  },
  {
   "cell_type": "code",
   "execution_count": 6,
   "id": "c33ca6db",
   "metadata": {},
   "outputs": [
    {
     "name": "stdout",
     "output_type": "stream",
     "text": [
      "ola, wesley! este é seu acesso de numero 32\n"
     ]
    }
   ],
   "source": [
    "print(f'ola, {nome}! este é seu acesso de numero {acessos}')"
   ]
  },
  {
   "cell_type": "code",
   "execution_count": null,
   "id": "c2b34d03",
   "metadata": {},
   "outputs": [],
   "source": []
  }
 ],
 "metadata": {
  "kernelspec": {
   "display_name": "Python 3 (ipykernel)",
   "language": "python",
   "name": "python3"
  },
  "language_info": {
   "codemirror_mode": {
    "name": "ipython",
    "version": 3
   },
   "file_extension": ".py",
   "mimetype": "text/x-python",
   "name": "python",
   "nbconvert_exporter": "python",
   "pygments_lexer": "ipython3",
   "version": "3.9.13"
  }
 },
 "nbformat": 4,
 "nbformat_minor": 5
}

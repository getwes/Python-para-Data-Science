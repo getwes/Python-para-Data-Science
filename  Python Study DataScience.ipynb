{
 "cells": [
  {
   "cell_type": "markdown",
   "id": "adb4c7dc",
   "metadata": {},
   "source": [
    "# Formatação de strings\n"
   ]
  },
  {
   "cell_type": "markdown",
   "id": "31d26e58",
   "metadata": {},
   "source": [
    "str.format()"
   ]
  },
  {
   "cell_type": "code",
   "execution_count": 1,
   "id": "69ead116",
   "metadata": {},
   "outputs": [
    {
     "name": "stdout",
     "output_type": "stream",
     "text": [
      "ola, wesley!\n"
     ]
    }
   ],
   "source": [
    "print('ola, {}!'.format('wesley'))"
   ]
  },
  {
   "cell_type": "code",
   "execution_count": 2,
   "id": "0900f9f8",
   "metadata": {},
   "outputs": [
    {
     "name": "stdout",
     "output_type": "stream",
     "text": [
      "ola, wesley! este é seu acesso de numero 32\n"
     ]
    }
   ],
   "source": [
    "print('ola, {}! este é seu acesso de numero {}'.format('wesley', 32))"
   ]
  },
  {
   "cell_type": "code",
   "execution_count": 3,
   "id": "6faf7235",
   "metadata": {},
   "outputs": [
    {
     "name": "stdout",
     "output_type": "stream",
     "text": [
      "ola, wesley! este é seu acesso de numero 32\n"
     ]
    }
   ],
   "source": [
    "print('ola, {nome}! este é seu acesso de numero {acessos}'.format(nome = 'wesley', acessos = 32))"
   ]
  },
  {
   "cell_type": "markdown",
   "id": "b268060e",
   "metadata": {},
   "source": [
    "f-Strings"
   ]
  },
  {
   "cell_type": "code",
   "execution_count": 5,
   "id": "62b4c65d",
   "metadata": {},
   "outputs": [],
   "source": [
    "nome = 'wesley'\n",
    "acessos = 32"
   ]
  },
  {
   "cell_type": "code",
   "execution_count": 6,
   "id": "32790fa8",
   "metadata": {},
   "outputs": [
    {
     "name": "stdout",
     "output_type": "stream",
     "text": [
      "ola, wesley! este é seu acesso de numero 32\n"
     ]
    }
   ],
   "source": [
    "print(f'ola, {nome}! este é seu acesso de numero {acessos}')"
   ]
  },
  {
   "cell_type": "markdown",
   "id": "5acf6614",
   "metadata": {},
   "source": [
    "# Criando listas"
   ]
  },
  {
   "cell_type": "markdown",
   "id": "d6b1ebfe",
   "metadata": {},
   "source": [
    "- Utilizando um par de colchetes: [ ], [ 1 ]\n",
    "- Utilizando um par de colchetes com itens separados por vírgulas: [ 1, 2, 3 ]"
   ]
  },
  {
   "cell_type": "code",
   "execution_count": 1,
   "id": "84b86f52",
   "metadata": {},
   "outputs": [
    {
     "data": {
      "text/plain": [
       "['Rodas de liga',\n",
       " 'Travas elétricas',\n",
       " 'Piloto automático',\n",
       " 'Bancos de couro',\n",
       " 'Ar condicionado',\n",
       " 'Sensor de estacionamento',\n",
       " 'Sensor crepuscular',\n",
       " 'Sensor de chuva']"
      ]
     },
     "execution_count": 1,
     "metadata": {},
     "output_type": "execute_result"
    }
   ],
   "source": [
    "Acessorios = ['Rodas de liga', 'Travas elétricas', 'Piloto automático', 'Bancos de couro', 'Ar condicionado', 'Sensor de estacionamento', 'Sensor crepuscular', 'Sensor de chuva']\n",
    "Acessorios"
   ]
  },
  {
   "cell_type": "markdown",
   "id": "453b48de",
   "metadata": {},
   "source": [
    "Lista com tipos de dados variados\n"
   ]
  },
  {
   "cell_type": "code",
   "execution_count": 2,
   "id": "57ac8e63",
   "metadata": {},
   "outputs": [],
   "source": [
    "Carro_1 = ['Jetta Variant', 'Motor 4.0 Turbo', 2003, 44410.0, False, ['Rodas de liga', 'Travas elétricas', 'Piloto automático'], 88078.64]\n",
    "Carro_2 = ['Passat', 'Motor Diesel', 1991, 5712.0, False, ['Central multimídia', 'Teto panorâmico', 'Freios ABS'], 106161.94]"
   ]
  },
  {
   "cell_type": "code",
   "execution_count": 4,
   "id": "21ec7778",
   "metadata": {},
   "outputs": [
    {
     "data": {
      "text/plain": [
       "['Jetta Variant',\n",
       " 'Motor 4.0 Turbo',\n",
       " 2003,\n",
       " 44410.0,\n",
       " False,\n",
       " ['Rodas de liga', 'Travas elétricas', 'Piloto automático'],\n",
       " 88078.64]"
      ]
     },
     "execution_count": 4,
     "metadata": {},
     "output_type": "execute_result"
    }
   ],
   "source": [
    "Carro_1"
   ]
  },
  {
   "cell_type": "code",
   "execution_count": 5,
   "id": "7796adee",
   "metadata": {},
   "outputs": [
    {
     "data": {
      "text/plain": [
       "['Passat',\n",
       " 'Motor Diesel',\n",
       " 1991,\n",
       " 5712.0,\n",
       " False,\n",
       " ['Central multimídia', 'Teto panorâmico', 'Freios ABS'],\n",
       " 106161.94]"
      ]
     },
     "execution_count": 5,
     "metadata": {},
     "output_type": "execute_result"
    }
   ],
   "source": [
    "Carro_2"
   ]
  },
  {
   "cell_type": "code",
   "execution_count": 6,
   "id": "6237d2b2",
   "metadata": {},
   "outputs": [
    {
     "data": {
      "text/plain": [
       "[['Jetta Variant',\n",
       "  'Motor 4.0 Turbo',\n",
       "  2003,\n",
       "  44410.0,\n",
       "  False,\n",
       "  ['Rodas de liga', 'Travas elétricas', 'Piloto automático'],\n",
       "  88078.64],\n",
       " ['Passat',\n",
       "  'Motor Diesel',\n",
       "  1991,\n",
       "  5712.0,\n",
       "  False,\n",
       "  ['Central multimídia', 'Teto panorâmico', 'Freios ABS'],\n",
       "  106161.94]]"
      ]
     },
     "execution_count": 6,
     "metadata": {},
     "output_type": "execute_result"
    }
   ],
   "source": [
    "carros = [Carro_1, Carro_2]\n",
    "carros"
   ]
  },
  {
   "cell_type": "code",
   "execution_count": 7,
   "id": "6d605b3e",
   "metadata": {},
   "outputs": [
    {
     "data": {
      "text/plain": [
       "list"
      ]
     },
     "execution_count": 7,
     "metadata": {},
     "output_type": "execute_result"
    }
   ],
   "source": [
    "type(carros)"
   ]
  },
  {
   "cell_type": "code",
   "execution_count": 8,
   "id": "c4a0e613",
   "metadata": {},
   "outputs": [],
   "source": [
    "#Listas são sequências mutáveis que são utilizadas para armazenar coleções de itens, geralmente homogêneos. Podem ser construídas de várias formas"
   ]
  },
  {
   "cell_type": "code",
   "execution_count": 9,
   "id": "981b4a35",
   "metadata": {},
   "outputs": [
    {
     "data": {
      "text/plain": [
       "['Rodas de liga',\n",
       " 'Travas elétricas',\n",
       " 'Piloto automático',\n",
       " 'Bancos de couro',\n",
       " 'Ar condicionado',\n",
       " 'Sensor de estacionamento',\n",
       " 'Sensor crepuscular',\n",
       " 'Sensor de chuva']"
      ]
     },
     "execution_count": 9,
     "metadata": {},
     "output_type": "execute_result"
    }
   ],
   "source": [
    "Acessorios"
   ]
  },
  {
   "cell_type": "code",
   "execution_count": 10,
   "id": "daa0e40c",
   "metadata": {},
   "outputs": [
    {
     "data": {
      "text/plain": [
       "True"
      ]
     },
     "execution_count": 10,
     "metadata": {},
     "output_type": "execute_result"
    }
   ],
   "source": [
    "'Rodas de liga' in Acessorios # in para saber se tem algo dentro de uma lista cao tenha retorna um valor verdadeiro caso não um valor falso"
   ]
  },
  {
   "cell_type": "code",
   "execution_count": 11,
   "id": "e901a21b",
   "metadata": {},
   "outputs": [
    {
     "data": {
      "text/plain": [
       "False"
      ]
     },
     "execution_count": 11,
     "metadata": {},
     "output_type": "execute_result"
    }
   ],
   "source": [
    "'4 x 4' in Acessorios"
   ]
  },
  {
   "cell_type": "code",
   "execution_count": 12,
   "id": "53b31ba6",
   "metadata": {},
   "outputs": [
    {
     "data": {
      "text/plain": [
       "False"
      ]
     },
     "execution_count": 12,
     "metadata": {},
     "output_type": "execute_result"
    }
   ],
   "source": [
    "'Rodas de liga'  not in Acessorios # rodas de liga não esta dentro da lista acessorios"
   ]
  },
  {
   "cell_type": "code",
   "execution_count": 13,
   "id": "aed0a318",
   "metadata": {},
   "outputs": [
    {
     "data": {
      "text/plain": [
       "True"
      ]
     },
     "execution_count": 13,
     "metadata": {},
     "output_type": "execute_result"
    }
   ],
   "source": [
    "'4 x 4' not in Acessorios"
   ]
  },
  {
   "cell_type": "markdown",
   "id": "876fba2f",
   "metadata": {},
   "source": [
    "# A + B"
   ]
  },
  {
   "cell_type": "markdown",
   "id": "2d492511",
   "metadata": {},
   "source": [
    "Concatena as listas A e B."
   ]
  },
  {
   "cell_type": "code",
   "execution_count": 14,
   "id": "5ab8a64b",
   "metadata": {},
   "outputs": [],
   "source": [
    "A = ['Rodas de liga', 'Travas elétricas', 'Piloto automático', 'Bancos de couro']\n",
    "B = ['Ar condicionado', 'Sensor de estacionamento', 'Sensor crepuscular', 'Sensor de chuva']"
   ]
  },
  {
   "cell_type": "code",
   "execution_count": 15,
   "id": "34ca8d52",
   "metadata": {},
   "outputs": [
    {
     "data": {
      "text/plain": [
       "['Rodas de liga', 'Travas elétricas', 'Piloto automático', 'Bancos de couro']"
      ]
     },
     "execution_count": 15,
     "metadata": {},
     "output_type": "execute_result"
    }
   ],
   "source": [
    "A\n"
   ]
  },
  {
   "cell_type": "code",
   "execution_count": 16,
   "id": "02127c3c",
   "metadata": {},
   "outputs": [
    {
     "data": {
      "text/plain": [
       "['Ar condicionado',\n",
       " 'Sensor de estacionamento',\n",
       " 'Sensor crepuscular',\n",
       " 'Sensor de chuva']"
      ]
     },
     "execution_count": 16,
     "metadata": {},
     "output_type": "execute_result"
    }
   ],
   "source": [
    "B"
   ]
  },
  {
   "cell_type": "code",
   "execution_count": 17,
   "id": "911a88a3",
   "metadata": {},
   "outputs": [
    {
     "data": {
      "text/plain": [
       "['Rodas de liga',\n",
       " 'Travas elétricas',\n",
       " 'Piloto automático',\n",
       " 'Bancos de couro',\n",
       " 'Ar condicionado',\n",
       " 'Sensor de estacionamento',\n",
       " 'Sensor crepuscular',\n",
       " 'Sensor de chuva']"
      ]
     },
     "execution_count": 17,
     "metadata": {},
     "output_type": "execute_result"
    }
   ],
   "source": [
    "A + B"
   ]
  },
  {
   "cell_type": "markdown",
   "id": "c7a98991",
   "metadata": {},
   "source": [
    "# Len(A)\n"
   ]
  },
  {
   "cell_type": "markdown",
   "id": "41fcb865",
   "metadata": {},
   "source": [
    "Tamanho da lista A."
   ]
  },
  {
   "cell_type": "code",
   "execution_count": 19,
   "id": "86d52c7a",
   "metadata": {},
   "outputs": [
    {
     "data": {
      "text/plain": [
       "8"
      ]
     },
     "execution_count": 19,
     "metadata": {},
     "output_type": "execute_result"
    }
   ],
   "source": [
    "len(Acessorios) # para saber a quantintidade de intens dentro de uma lista"
   ]
  },
  {
   "cell_type": "markdown",
   "id": "39f49e4d",
   "metadata": {},
   "source": [
    "# 3.3 Seleções em listas\n"
   ]
  },
  {
   "cell_type": "markdown",
   "id": "b7aa426c",
   "metadata": {},
   "source": [
    "A[ i ]\n",
    "Retorna o i-ésimo item da lista A.\n",
    "\n",
    "Observação: Listas têm indexação com origem no zero."
   ]
  },
  {
   "cell_type": "code",
   "execution_count": 20,
   "id": "034b4c6a",
   "metadata": {},
   "outputs": [
    {
     "data": {
      "text/plain": [
       "['Rodas de liga',\n",
       " 'Travas elétricas',\n",
       " 'Piloto automático',\n",
       " 'Bancos de couro',\n",
       " 'Ar condicionado',\n",
       " 'Sensor de estacionamento',\n",
       " 'Sensor crepuscular',\n",
       " 'Sensor de chuva']"
      ]
     },
     "execution_count": 20,
     "metadata": {},
     "output_type": "execute_result"
    }
   ],
   "source": [
    "Acessorios\n",
    "\n"
   ]
  },
  {
   "cell_type": "code",
   "execution_count": 21,
   "id": "8a5e4903",
   "metadata": {},
   "outputs": [
    {
     "data": {
      "text/plain": [
       "'Rodas de liga'"
      ]
     },
     "execution_count": 21,
     "metadata": {},
     "output_type": "execute_result"
    }
   ],
   "source": [
    "Acessorios[0]"
   ]
  },
  {
   "cell_type": "code",
   "execution_count": 22,
   "id": "33c2b8e5",
   "metadata": {},
   "outputs": [
    {
     "data": {
      "text/plain": [
       "'Travas elétricas'"
      ]
     },
     "execution_count": 22,
     "metadata": {},
     "output_type": "execute_result"
    }
   ],
   "source": [
    "Acessorios[1]"
   ]
  },
  {
   "cell_type": "markdown",
   "id": "6c4d8931",
   "metadata": {},
   "source": [
    "# Acessorios[-1] # usando o sinal de - consigo acessar o ultimo acessorio da lista"
   ]
  },
  {
   "cell_type": "code",
   "execution_count": 25,
   "id": "61c75579",
   "metadata": {},
   "outputs": [
    {
     "data": {
      "text/plain": [
       "'Sensor crepuscular'"
      ]
     },
     "execution_count": 25,
     "metadata": {},
     "output_type": "execute_result"
    }
   ],
   "source": [
    "Acessorios[-2]"
   ]
  },
  {
   "cell_type": "code",
   "execution_count": 26,
   "id": "e05831de",
   "metadata": {},
   "outputs": [
    {
     "data": {
      "text/plain": [
       "[['Jetta Variant',\n",
       "  'Motor 4.0 Turbo',\n",
       "  2003,\n",
       "  44410.0,\n",
       "  False,\n",
       "  ['Rodas de liga', 'Travas elétricas', 'Piloto automático'],\n",
       "  88078.64],\n",
       " ['Passat',\n",
       "  'Motor Diesel',\n",
       "  1991,\n",
       "  5712.0,\n",
       "  False,\n",
       "  ['Central multimídia', 'Teto panorâmico', 'Freios ABS'],\n",
       "  106161.94]]"
      ]
     },
     "execution_count": 26,
     "metadata": {},
     "output_type": "execute_result"
    }
   ],
   "source": [
    "carros"
   ]
  },
  {
   "cell_type": "code",
   "execution_count": 27,
   "id": "31b8090b",
   "metadata": {},
   "outputs": [
    {
     "data": {
      "text/plain": [
       "['Jetta Variant',\n",
       " 'Motor 4.0 Turbo',\n",
       " 2003,\n",
       " 44410.0,\n",
       " False,\n",
       " ['Rodas de liga', 'Travas elétricas', 'Piloto automático'],\n",
       " 88078.64]"
      ]
     },
     "execution_count": 27,
     "metadata": {},
     "output_type": "execute_result"
    }
   ],
   "source": [
    "carros[0]"
   ]
  },
  {
   "cell_type": "code",
   "execution_count": 31,
   "id": "8c704392",
   "metadata": {},
   "outputs": [
    {
     "data": {
      "text/plain": [
       "'Jetta Variant'"
      ]
     },
     "execution_count": 31,
     "metadata": {},
     "output_type": "execute_result"
    }
   ],
   "source": [
    "carros[0][0] # da lista um eu quero o primeiro dado da lista ou seja jetta varriant"
   ]
  },
  {
   "cell_type": "code",
   "execution_count": 33,
   "id": "6eb11a83",
   "metadata": {},
   "outputs": [
    {
     "data": {
      "text/plain": [
       "['Rodas de liga', 'Travas elétricas', 'Piloto automático']"
      ]
     },
     "execution_count": 33,
     "metadata": {},
     "output_type": "execute_result"
    }
   ],
   "source": [
    "carros[0][-2]"
   ]
  },
  {
   "cell_type": "code",
   "execution_count": 34,
   "id": "df70c3c4",
   "metadata": {},
   "outputs": [
    {
     "data": {
      "text/plain": [
       "'Travas elétricas'"
      ]
     },
     "execution_count": 34,
     "metadata": {},
     "output_type": "execute_result"
    }
   ],
   "source": [
    "carros[0][-2][1]"
   ]
  },
  {
   "cell_type": "markdown",
   "id": "ed4f4ac9",
   "metadata": {},
   "source": [
    "# A[ i : j ]"
   ]
  },
  {
   "cell_type": "markdown",
   "id": "4380e8f0",
   "metadata": {},
   "source": [
    "Recorta a lista A do índice i até o j. Neste fatiamento o elemento com índice i é incluído e o elemento com índice j não é incluído no resultado."
   ]
  },
  {
   "cell_type": "code",
   "execution_count": 36,
   "id": "34d4c29b",
   "metadata": {},
   "outputs": [
    {
     "data": {
      "text/plain": [
       "['Rodas de liga',\n",
       " 'Travas elétricas',\n",
       " 'Piloto automático',\n",
       " 'Bancos de couro',\n",
       " 'Ar condicionado',\n",
       " 'Sensor de estacionamento',\n",
       " 'Sensor crepuscular',\n",
       " 'Sensor de chuva']"
      ]
     },
     "execution_count": 36,
     "metadata": {},
     "output_type": "execute_result"
    }
   ],
   "source": [
    "Acessorios"
   ]
  },
  {
   "cell_type": "code",
   "execution_count": 38,
   "id": "84b4a2bb",
   "metadata": {},
   "outputs": [
    {
     "data": {
      "text/plain": [
       "['Piloto automático', 'Bancos de couro', 'Ar condicionado']"
      ]
     },
     "execution_count": 38,
     "metadata": {},
     "output_type": "execute_result"
    }
   ],
   "source": [
    "Acessorios[2:5] # se inicia no indice numero dois 'piloto automatico' o ultimo não é incluido"
   ]
  },
  {
   "cell_type": "code",
   "execution_count": 39,
   "id": "7199a5b4",
   "metadata": {},
   "outputs": [
    {
     "data": {
      "text/plain": [
       "['Piloto automático',\n",
       " 'Bancos de couro',\n",
       " 'Ar condicionado',\n",
       " 'Sensor de estacionamento',\n",
       " 'Sensor crepuscular',\n",
       " 'Sensor de chuva']"
      ]
     },
     "execution_count": 39,
     "metadata": {},
     "output_type": "execute_result"
    }
   ],
   "source": [
    "Acessorios[2:]"
   ]
  },
  {
   "cell_type": "code",
   "execution_count": 40,
   "id": "d0d12b1e",
   "metadata": {},
   "outputs": [
    {
     "data": {
      "text/plain": [
       "['Rodas de liga',\n",
       " 'Travas elétricas',\n",
       " 'Piloto automático',\n",
       " 'Bancos de couro',\n",
       " 'Ar condicionado']"
      ]
     },
     "execution_count": 40,
     "metadata": {},
     "output_type": "execute_result"
    }
   ],
   "source": [
    "Acessorios[:5]"
   ]
  },
  {
   "cell_type": "markdown",
   "id": "e134d4df",
   "metadata": {},
   "source": [
    "# 3.4 Métodos de listas"
   ]
  },
  {
   "cell_type": "markdown",
   "id": "d10b60e1",
   "metadata": {},
   "source": [
    "A.sort()\n",
    "\n",
    "Ordena a lista A."
   ]
  },
  {
   "cell_type": "code",
   "execution_count": 24,
   "id": "326d50bb",
   "metadata": {},
   "outputs": [
    {
     "data": {
      "text/plain": [
       "['Rodas de liga',\n",
       " 'Travas elétricas',\n",
       " 'Piloto automático',\n",
       " 'Bancos de couro',\n",
       " 'Ar condicionado',\n",
       " 'Sensor de estacionamento',\n",
       " 'Sensor crepuscular',\n",
       " 'Sensor de chuva']"
      ]
     },
     "execution_count": 24,
     "metadata": {},
     "output_type": "execute_result"
    }
   ],
   "source": [
    "Acessorios = ['Rodas de liga', 'Travas elétricas', 'Piloto automático', 'Bancos de couro', 'Ar condicionado', 'Sensor de estacionamento', 'Sensor crepuscular', 'Sensor de chuva']\n",
    "Acessorios"
   ]
  },
  {
   "cell_type": "code",
   "execution_count": 4,
   "id": "35856119",
   "metadata": {},
   "outputs": [],
   "source": [
    "Acessorios.sort() #coloca os indices da lista em ordem alfabetica"
   ]
  },
  {
   "cell_type": "markdown",
   "id": "9de4a850",
   "metadata": {},
   "source": [
    "Acessorios"
   ]
  },
  {
   "cell_type": "markdown",
   "id": "48dcc139",
   "metadata": {},
   "source": [
    "A.append(x)\n",
    "\n",
    "Adiciona o elemnto x no final da lista A."
   ]
  },
  {
   "cell_type": "code",
   "execution_count": 11,
   "id": "94e0f960",
   "metadata": {},
   "outputs": [],
   "source": [
    "Acessorios.append('4 x 4') # adiciona um novo indice na lista"
   ]
  },
  {
   "cell_type": "code",
   "execution_count": 16,
   "id": "5d989a38",
   "metadata": {},
   "outputs": [
    {
     "data": {
      "text/plain": [
       "['Ar condicionado',\n",
       " 'Bancos de couro',\n",
       " 'Piloto automático',\n",
       " 'Rodas de liga',\n",
       " 'Sensor crepuscular',\n",
       " 'Sensor de chuva',\n",
       " 'Sensor de estacionamento',\n",
       " 'Travas elétricas']"
      ]
     },
     "execution_count": 16,
     "metadata": {},
     "output_type": "execute_result"
    }
   ],
   "source": [
    "Acessorios"
   ]
  },
  {
   "cell_type": "markdown",
   "id": "7dd96b8c",
   "metadata": {},
   "source": [
    "A.pop(i)\n",
    "Remove e retorna o elemento de índice i da lista A.\n",
    "\n",
    "Observação: Por default o método pop() remove e retorna o último elemento de uma lista."
   ]
  },
  {
   "cell_type": "code",
   "execution_count": 15,
   "id": "a43ad767",
   "metadata": {},
   "outputs": [
    {
     "data": {
      "text/plain": [
       "'4 x 4'"
      ]
     },
     "execution_count": 15,
     "metadata": {},
     "output_type": "execute_result"
    }
   ],
   "source": [
    "Acessorios.pop() # remove o ultimo indice adicionado na lista"
   ]
  },
  {
   "cell_type": "code",
   "execution_count": 17,
   "id": "20d5cdd0",
   "metadata": {},
   "outputs": [],
   "source": [
    "#acessorios.pop(3) remove oque foi pedido no indice"
   ]
  },
  {
   "cell_type": "markdown",
   "id": "7bdd27ce",
   "metadata": {},
   "source": [
    "A.copy()\n",
    "\n",
    "Cria uma cópia da lista A.\n",
    "\n",
    "Observação: O mesmo resultado pode ser obtido com o seguinte código:"
   ]
  },
  {
   "cell_type": "code",
   "execution_count": 18,
   "id": "08faf560",
   "metadata": {},
   "outputs": [],
   "source": [
    "Acessorios_2 = Acessorios.copy()"
   ]
  },
  {
   "cell_type": "code",
   "execution_count": 19,
   "id": "9d60d4f6",
   "metadata": {},
   "outputs": [
    {
     "data": {
      "text/plain": [
       "['Ar condicionado',\n",
       " 'Bancos de couro',\n",
       " 'Piloto automático',\n",
       " 'Rodas de liga',\n",
       " 'Sensor crepuscular',\n",
       " 'Sensor de chuva',\n",
       " 'Sensor de estacionamento',\n",
       " 'Travas elétricas']"
      ]
     },
     "execution_count": 19,
     "metadata": {},
     "output_type": "execute_result"
    }
   ],
   "source": [
    "Acessorios_2"
   ]
  },
  {
   "cell_type": "code",
   "execution_count": 20,
   "id": "9a114dd9",
   "metadata": {},
   "outputs": [],
   "source": [
    "Acessorios_2.append('4x4')"
   ]
  },
  {
   "cell_type": "code",
   "execution_count": 21,
   "id": "b071770c",
   "metadata": {},
   "outputs": [
    {
     "data": {
      "text/plain": [
       "['Ar condicionado',\n",
       " 'Bancos de couro',\n",
       " 'Piloto automático',\n",
       " 'Rodas de liga',\n",
       " 'Sensor crepuscular',\n",
       " 'Sensor de chuva',\n",
       " 'Sensor de estacionamento',\n",
       " 'Travas elétricas',\n",
       " '4x4']"
      ]
     },
     "execution_count": 21,
     "metadata": {},
     "output_type": "execute_result"
    }
   ],
   "source": [
    "Acessorios_2"
   ]
  },
  {
   "cell_type": "code",
   "execution_count": 22,
   "id": "8716750e",
   "metadata": {},
   "outputs": [
    {
     "data": {
      "text/plain": [
       "['Ar condicionado',\n",
       " 'Bancos de couro',\n",
       " 'Piloto automático',\n",
       " 'Rodas de liga',\n",
       " 'Sensor crepuscular',\n",
       " 'Sensor de chuva',\n",
       " 'Sensor de estacionamento',\n",
       " 'Travas elétricas']"
      ]
     },
     "execution_count": 22,
     "metadata": {},
     "output_type": "execute_result"
    }
   ],
   "source": [
    "Acessorios"
   ]
  },
  {
   "cell_type": "code",
   "execution_count": 23,
   "id": "21decddc",
   "metadata": {},
   "outputs": [],
   "source": [
    "#Acessorios_2 = Acessorios[:] é equivalente ha Acessorios_2 = Acessorios.copy()"
   ]
  },
  {
   "cell_type": "markdown",
   "id": "40fe1b78",
   "metadata": {},
   "source": [
    "# 4.1 Instrução for"
   ]
  },
  {
   "cell_type": "markdown",
   "id": "2a301a3b",
   "metadata": {},
   "source": [
    "Formato padrão\n",
    "for <variável> in <coleção>:\n",
    "    <instruções>"
   ]
  },
  {
   "cell_type": "markdown",
   "id": "267b3017",
   "metadata": {},
   "source": [
    "Loops com listas"
   ]
  },
  {
   "cell_type": "code",
   "execution_count": 25,
   "id": "ed185b1a",
   "metadata": {},
   "outputs": [
    {
     "data": {
      "text/plain": [
       "['Rodas de liga',\n",
       " 'Travas elétricas',\n",
       " 'Piloto automático',\n",
       " 'Bancos de couro',\n",
       " 'Ar condicionado',\n",
       " 'Sensor de estacionamento',\n",
       " 'Sensor crepuscular',\n",
       " 'Sensor de chuva']"
      ]
     },
     "execution_count": 25,
     "metadata": {},
     "output_type": "execute_result"
    }
   ],
   "source": [
    "Acessorios = ['Rodas de liga', 'Travas elétricas', 'Piloto automático', 'Bancos de couro', 'Ar condicionado', 'Sensor de estacionamento', 'Sensor crepuscular', 'Sensor de chuva']\n",
    "Acessorios"
   ]
  },
  {
   "cell_type": "code",
   "execution_count": 28,
   "id": "db1672c6",
   "metadata": {},
   "outputs": [
    {
     "name": "stdout",
     "output_type": "stream",
     "text": [
      "Rodas de liga\n",
      "Travas elétricas\n",
      "Piloto automático\n",
      "Bancos de couro\n",
      "Ar condicionado\n",
      "Sensor de estacionamento\n",
      "Sensor crepuscular\n",
      "Sensor de chuva\n"
     ]
    }
   ],
   "source": [
    "for item in Acessorios: # serve para acessar cada item da listas e printar cada um \n",
    "    print(item)\n",
    "    "
   ]
  },
  {
   "cell_type": "code",
   "execution_count": 29,
   "id": "8b373360",
   "metadata": {},
   "outputs": [],
   "source": [
    "#for serve para que possamos fazer interaçoes dentro de coleçoes no python"
   ]
  },
  {
   "cell_type": "markdown",
   "id": "a3a22011",
   "metadata": {},
   "source": [
    "range() "
   ]
  },
  {
   "cell_type": "code",
   "execution_count": 30,
   "id": "21503273",
   "metadata": {},
   "outputs": [
    {
     "data": {
      "text/plain": [
       "range(0, 10)"
      ]
     },
     "execution_count": 30,
     "metadata": {},
     "output_type": "execute_result"
    }
   ],
   "source": [
    "range(10) # gera uma lista com 10 elementos"
   ]
  },
  {
   "cell_type": "code",
   "execution_count": 32,
   "id": "ff6cedfb",
   "metadata": {},
   "outputs": [
    {
     "data": {
      "text/plain": [
       "[0, 1, 2, 3, 4, 5, 6, 7, 8, 9]"
      ]
     },
     "execution_count": 32,
     "metadata": {},
     "output_type": "execute_result"
    }
   ],
   "source": [
    "list(range(10))"
   ]
  },
  {
   "cell_type": "code",
   "execution_count": 37,
   "id": "4d295521",
   "metadata": {},
   "outputs": [
    {
     "name": "stdout",
     "output_type": "stream",
     "text": [
      "0\n",
      "1\n",
      "4\n",
      "9\n",
      "16\n",
      "25\n",
      "36\n",
      "49\n",
      "64\n",
      "81\n"
     ]
    }
   ],
   "source": [
    "for i in range(10):\n",
    "    print(i ** 2) #faz o print de cada item elevado ao quadrado "
   ]
  },
  {
   "cell_type": "code",
   "execution_count": 35,
   "id": "af40143c",
   "metadata": {},
   "outputs": [
    {
     "data": {
      "text/plain": [
       "[0, 1, 4, 9, 16, 25, 36, 49, 64, 81]"
      ]
     },
     "execution_count": 35,
     "metadata": {},
     "output_type": "execute_result"
    }
   ],
   "source": [
    "quadrado = []\n",
    "for i in range(10):\n",
    "    quadrado.append(i ** 2)\n",
    "    \n",
    "quadrado"
   ]
  },
  {
   "cell_type": "code",
   "execution_count": 38,
   "id": "8b6fc9de",
   "metadata": {},
   "outputs": [
    {
     "data": {
      "text/plain": [
       "[0, 1, 4, 9, 16, 25, 36, 49, 64, 81]"
      ]
     },
     "execution_count": 38,
     "metadata": {},
     "output_type": "execute_result"
    }
   ],
   "source": [
    "[i ** 2 for i in range(10)]"
   ]
  },
  {
   "cell_type": "markdown",
   "id": "03830b11",
   "metadata": {},
   "source": [
    "# 4.2 Loops aninhados"
   ]
  },
  {
   "cell_type": "code",
   "execution_count": 39,
   "id": "a894360b",
   "metadata": {},
   "outputs": [
    {
     "data": {
      "text/plain": [
       "[['Rodas de liga',\n",
       "  'Travas elétricas',\n",
       "  'Piloto automático',\n",
       "  'Bancos de couro',\n",
       "  'Ar condicionado',\n",
       "  'Sensor de estacionamento',\n",
       "  'Sensor crepuscular',\n",
       "  'Sensor de chuva'],\n",
       " ['Central multimídia',\n",
       "  'Teto panorâmico',\n",
       "  'Freios ABS',\n",
       "  '4 X 4',\n",
       "  'Painel digital',\n",
       "  'Piloto automático',\n",
       "  'Bancos de couro',\n",
       "  'Câmera de estacionamento'],\n",
       " ['Piloto automático',\n",
       "  'Controle de estabilidade',\n",
       "  'Sensor crepuscular',\n",
       "  'Freios ABS',\n",
       "  'Câmbio automático',\n",
       "  'Bancos de couro',\n",
       "  'Central multimídia',\n",
       "  'Vidros elétricos']]"
      ]
     },
     "execution_count": 39,
     "metadata": {},
     "output_type": "execute_result"
    }
   ],
   "source": [
    "dados = [ \n",
    "    ['Rodas de liga', 'Travas elétricas', 'Piloto automático', 'Bancos de couro', 'Ar condicionado', 'Sensor de estacionamento', 'Sensor crepuscular', 'Sensor de chuva'],\n",
    "    ['Central multimídia', 'Teto panorâmico', 'Freios ABS', '4 X 4', 'Painel digital', 'Piloto automático', 'Bancos de couro', 'Câmera de estacionamento'],\n",
    "    ['Piloto automático', 'Controle de estabilidade', 'Sensor crepuscular', 'Freios ABS', 'Câmbio automático', 'Bancos de couro', 'Central multimídia', 'Vidros elétricos']\n",
    "]\n",
    "dados"
   ]
  },
  {
   "cell_type": "code",
   "execution_count": null,
   "id": "8b2fc993",
   "metadata": {},
   "outputs": [],
   "source": []
  }
 ],
 "metadata": {
  "kernelspec": {
   "display_name": "Python 3 (ipykernel)",
   "language": "python",
   "name": "python3"
  },
  "language_info": {
   "codemirror_mode": {
    "name": "ipython",
    "version": 3
   },
   "file_extension": ".py",
   "mimetype": "text/x-python",
   "name": "python",
   "nbconvert_exporter": "python",
   "pygments_lexer": "ipython3",
   "version": "3.9.13"
  }
 },
 "nbformat": 4,
 "nbformat_minor": 5
}

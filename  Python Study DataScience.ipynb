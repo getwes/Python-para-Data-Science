{
 "cells": [
  {
   "cell_type": "markdown",
   "id": "adb4c7dc",
   "metadata": {},
   "source": [
    "# Formatação de strings\n"
   ]
  },
  {
   "cell_type": "markdown",
   "id": "31d26e58",
   "metadata": {},
   "source": [
    "str.format()"
   ]
  },
  {
   "cell_type": "code",
   "execution_count": 1,
   "id": "69ead116",
   "metadata": {},
   "outputs": [
    {
     "name": "stdout",
     "output_type": "stream",
     "text": [
      "ola, wesley!\n"
     ]
    }
   ],
   "source": [
    "print('ola, {}!'.format('wesley'))"
   ]
  },
  {
   "cell_type": "code",
   "execution_count": 2,
   "id": "0900f9f8",
   "metadata": {},
   "outputs": [
    {
     "name": "stdout",
     "output_type": "stream",
     "text": [
      "ola, wesley! este é seu acesso de numero 32\n"
     ]
    }
   ],
   "source": [
    "print('ola, {}! este é seu acesso de numero {}'.format('wesley', 32))"
   ]
  },
  {
   "cell_type": "code",
   "execution_count": 3,
   "id": "6faf7235",
   "metadata": {},
   "outputs": [
    {
     "name": "stdout",
     "output_type": "stream",
     "text": [
      "ola, wesley! este é seu acesso de numero 32\n"
     ]
    }
   ],
   "source": [
    "print('ola, {nome}! este é seu acesso de numero {acessos}'.format(nome = 'wesley', acessos = 32))"
   ]
  },
  {
   "cell_type": "markdown",
   "id": "b268060e",
   "metadata": {},
   "source": [
    "f-Strings"
   ]
  },
  {
   "cell_type": "code",
   "execution_count": 5,
   "id": "62b4c65d",
   "metadata": {},
   "outputs": [],
   "source": [
    "nome = 'wesley'\n",
    "acessos = 32"
   ]
  },
  {
   "cell_type": "code",
   "execution_count": 6,
   "id": "32790fa8",
   "metadata": {},
   "outputs": [
    {
     "name": "stdout",
     "output_type": "stream",
     "text": [
      "ola, wesley! este é seu acesso de numero 32\n"
     ]
    }
   ],
   "source": [
    "print(f'ola, {nome}! este é seu acesso de numero {acessos}')"
   ]
  },
  {
   "cell_type": "markdown",
   "id": "b317801b",
   "metadata": {},
   "source": [
    "# Criando listas"
   ]
  },
  {
   "cell_type": "markdown",
   "id": "6d2c2c86",
   "metadata": {},
   "source": [
    "- Utilizando um par de colchetes: [ ], [ 1 ]\n",
    "- Utilizando um par de colchetes com itens separados por vírgulas: [ 1, 2, 3 ]"
   ]
  },
  {
   "cell_type": "code",
   "execution_count": 1,
   "id": "b10f5729",
   "metadata": {},
   "outputs": [
    {
     "data": {
      "text/plain": [
       "['Rodas de liga',\n",
       " 'Travas elétricas',\n",
       " 'Piloto automático',\n",
       " 'Bancos de couro',\n",
       " 'Ar condicionado',\n",
       " 'Sensor de estacionamento',\n",
       " 'Sensor crepuscular',\n",
       " 'Sensor de chuva']"
      ]
     },
     "execution_count": 1,
     "metadata": {},
     "output_type": "execute_result"
    }
   ],
   "source": [
    "Acessorios = ['Rodas de liga', 'Travas elétricas', 'Piloto automático', 'Bancos de couro', 'Ar condicionado', 'Sensor de estacionamento', 'Sensor crepuscular', 'Sensor de chuva']\n",
    "Acessorios"
   ]
  },
  {
   "cell_type": "markdown",
   "id": "bfd6b043",
   "metadata": {},
   "source": [
    "Lista com tipos de dados variados\n"
   ]
  },
  {
   "cell_type": "code",
   "execution_count": 2,
   "id": "1dac9117",
   "metadata": {},
   "outputs": [],
   "source": [
    "Carro_1 = ['Jetta Variant', 'Motor 4.0 Turbo', 2003, 44410.0, False, ['Rodas de liga', 'Travas elétricas', 'Piloto automático'], 88078.64]\n",
    "Carro_2 = ['Passat', 'Motor Diesel', 1991, 5712.0, False, ['Central multimídia', 'Teto panorâmico', 'Freios ABS'], 106161.94]"
   ]
  },
  {
   "cell_type": "code",
   "execution_count": 4,
   "id": "481aee7b",
   "metadata": {},
   "outputs": [
    {
     "data": {
      "text/plain": [
       "['Jetta Variant',\n",
       " 'Motor 4.0 Turbo',\n",
       " 2003,\n",
       " 44410.0,\n",
       " False,\n",
       " ['Rodas de liga', 'Travas elétricas', 'Piloto automático'],\n",
       " 88078.64]"
      ]
     },
     "execution_count": 4,
     "metadata": {},
     "output_type": "execute_result"
    }
   ],
   "source": [
    "Carro_1"
   ]
  },
  {
   "cell_type": "code",
   "execution_count": 5,
   "id": "74368b38",
   "metadata": {},
   "outputs": [
    {
     "data": {
      "text/plain": [
       "['Passat',\n",
       " 'Motor Diesel',\n",
       " 1991,\n",
       " 5712.0,\n",
       " False,\n",
       " ['Central multimídia', 'Teto panorâmico', 'Freios ABS'],\n",
       " 106161.94]"
      ]
     },
     "execution_count": 5,
     "metadata": {},
     "output_type": "execute_result"
    }
   ],
   "source": [
    "Carro_2"
   ]
  },
  {
   "cell_type": "code",
   "execution_count": 6,
   "id": "d0fe8e70",
   "metadata": {},
   "outputs": [
    {
     "data": {
      "text/plain": [
       "[['Jetta Variant',\n",
       "  'Motor 4.0 Turbo',\n",
       "  2003,\n",
       "  44410.0,\n",
       "  False,\n",
       "  ['Rodas de liga', 'Travas elétricas', 'Piloto automático'],\n",
       "  88078.64],\n",
       " ['Passat',\n",
       "  'Motor Diesel',\n",
       "  1991,\n",
       "  5712.0,\n",
       "  False,\n",
       "  ['Central multimídia', 'Teto panorâmico', 'Freios ABS'],\n",
       "  106161.94]]"
      ]
     },
     "execution_count": 6,
     "metadata": {},
     "output_type": "execute_result"
    }
   ],
   "source": [
    "carros = [Carro_1, Carro_2]\n",
    "carros"
   ]
  },
  {
   "cell_type": "code",
   "execution_count": 7,
   "id": "6b051853",
   "metadata": {},
   "outputs": [
    {
     "data": {
      "text/plain": [
       "list"
      ]
     },
     "execution_count": 7,
     "metadata": {},
     "output_type": "execute_result"
    }
   ],
   "source": [
    "type(carros)"
   ]
  },
  {
   "cell_type": "code",
   "execution_count": 8,
   "id": "ab05129e",
   "metadata": {},
   "outputs": [],
   "source": [
    "#Listas são sequências mutáveis que são utilizadas para armazenar coleções de itens, geralmente homogêneos. Podem ser construídas de várias formas"
   ]
  },
  {
   "cell_type": "code",
   "execution_count": 9,
   "id": "aba3b7af",
   "metadata": {},
   "outputs": [
    {
     "data": {
      "text/plain": [
       "['Rodas de liga',\n",
       " 'Travas elétricas',\n",
       " 'Piloto automático',\n",
       " 'Bancos de couro',\n",
       " 'Ar condicionado',\n",
       " 'Sensor de estacionamento',\n",
       " 'Sensor crepuscular',\n",
       " 'Sensor de chuva']"
      ]
     },
     "execution_count": 9,
     "metadata": {},
     "output_type": "execute_result"
    }
   ],
   "source": [
    "Acessorios"
   ]
  },
  {
   "cell_type": "code",
   "execution_count": 10,
   "id": "9340b01e",
   "metadata": {},
   "outputs": [
    {
     "data": {
      "text/plain": [
       "True"
      ]
     },
     "execution_count": 10,
     "metadata": {},
     "output_type": "execute_result"
    }
   ],
   "source": [
    "'Rodas de liga' in Acessorios # in para saber se tem algo dentro de uma lista cao tenha retorna um valor verdadeiro caso não um valor falso"
   ]
  },
  {
   "cell_type": "code",
   "execution_count": 11,
   "id": "4a25f9e8",
   "metadata": {},
   "outputs": [
    {
     "data": {
      "text/plain": [
       "False"
      ]
     },
     "execution_count": 11,
     "metadata": {},
     "output_type": "execute_result"
    }
   ],
   "source": [
    "'4 x 4' in Acessorios"
   ]
  },
  {
   "cell_type": "code",
   "execution_count": 12,
   "id": "9988fbf4",
   "metadata": {},
   "outputs": [
    {
     "data": {
      "text/plain": [
       "False"
      ]
     },
     "execution_count": 12,
     "metadata": {},
     "output_type": "execute_result"
    }
   ],
   "source": [
    "'Rodas de liga'  not in Acessorios # rodas de liga não esta dentro da lista acessorios"
   ]
  },
  {
   "cell_type": "code",
   "execution_count": 13,
   "id": "b17c95a6",
   "metadata": {},
   "outputs": [
    {
     "data": {
      "text/plain": [
       "True"
      ]
     },
     "execution_count": 13,
     "metadata": {},
     "output_type": "execute_result"
    }
   ],
   "source": [
    "'4 x 4' not in Acessorios"
   ]
  },
  {
   "cell_type": "markdown",
   "id": "1ec7c6c6",
   "metadata": {},
   "source": [
    "# A + B"
   ]
  },
  {
   "cell_type": "markdown",
   "id": "f98e53ff",
   "metadata": {},
   "source": [
    "Concatena as listas A e B."
   ]
  },
  {
   "cell_type": "code",
   "execution_count": 14,
   "id": "eea9c618",
   "metadata": {},
   "outputs": [],
   "source": [
    "A = ['Rodas de liga', 'Travas elétricas', 'Piloto automático', 'Bancos de couro']\n",
    "B = ['Ar condicionado', 'Sensor de estacionamento', 'Sensor crepuscular', 'Sensor de chuva']"
   ]
  },
  {
   "cell_type": "code",
   "execution_count": 15,
   "id": "89a501ab",
   "metadata": {},
   "outputs": [
    {
     "data": {
      "text/plain": [
       "['Rodas de liga', 'Travas elétricas', 'Piloto automático', 'Bancos de couro']"
      ]
     },
     "execution_count": 15,
     "metadata": {},
     "output_type": "execute_result"
    }
   ],
   "source": [
    "A\n"
   ]
  },
  {
   "cell_type": "code",
   "execution_count": 16,
   "id": "18f919dd",
   "metadata": {},
   "outputs": [
    {
     "data": {
      "text/plain": [
       "['Ar condicionado',\n",
       " 'Sensor de estacionamento',\n",
       " 'Sensor crepuscular',\n",
       " 'Sensor de chuva']"
      ]
     },
     "execution_count": 16,
     "metadata": {},
     "output_type": "execute_result"
    }
   ],
   "source": [
    "B"
   ]
  },
  {
   "cell_type": "code",
   "execution_count": 17,
   "id": "f4a93edf",
   "metadata": {},
   "outputs": [
    {
     "data": {
      "text/plain": [
       "['Rodas de liga',\n",
       " 'Travas elétricas',\n",
       " 'Piloto automático',\n",
       " 'Bancos de couro',\n",
       " 'Ar condicionado',\n",
       " 'Sensor de estacionamento',\n",
       " 'Sensor crepuscular',\n",
       " 'Sensor de chuva']"
      ]
     },
     "execution_count": 17,
     "metadata": {},
     "output_type": "execute_result"
    }
   ],
   "source": [
    "A + B"
   ]
  },
  {
   "cell_type": "markdown",
   "id": "386c971a",
   "metadata": {},
   "source": [
    "# Len(A)\n"
   ]
  },
  {
   "cell_type": "markdown",
   "id": "85d8f51d",
   "metadata": {},
   "source": [
    "Tamanho da lista A."
   ]
  },
  {
   "cell_type": "code",
   "execution_count": 19,
   "id": "1ee0b212",
   "metadata": {},
   "outputs": [
    {
     "data": {
      "text/plain": [
       "8"
      ]
     },
     "execution_count": 19,
     "metadata": {},
     "output_type": "execute_result"
    }
   ],
   "source": [
    "len(Acessorios) # para saber a quantintidade de intens dentro de uma lista"
   ]
  },
  {
   "cell_type": "markdown",
   "id": "e0fcb6a5",
   "metadata": {},
   "source": [
    "# 3.3 Seleções em listas\n"
   ]
  },
  {
   "cell_type": "markdown",
   "id": "1a288ff2",
   "metadata": {},
   "source": [
    "A[ i ]\n",
    "Retorna o i-ésimo item da lista A.\n",
    "\n",
    "Observação: Listas têm indexação com origem no zero."
   ]
  },
  {
   "cell_type": "code",
   "execution_count": 20,
   "id": "4f095369",
   "metadata": {},
   "outputs": [
    {
     "data": {
      "text/plain": [
       "['Rodas de liga',\n",
       " 'Travas elétricas',\n",
       " 'Piloto automático',\n",
       " 'Bancos de couro',\n",
       " 'Ar condicionado',\n",
       " 'Sensor de estacionamento',\n",
       " 'Sensor crepuscular',\n",
       " 'Sensor de chuva']"
      ]
     },
     "execution_count": 20,
     "metadata": {},
     "output_type": "execute_result"
    }
   ],
   "source": [
    "Acessorios\n",
    "\n"
   ]
  },
  {
   "cell_type": "code",
   "execution_count": 21,
   "id": "717a4ad3",
   "metadata": {},
   "outputs": [
    {
     "data": {
      "text/plain": [
       "'Rodas de liga'"
      ]
     },
     "execution_count": 21,
     "metadata": {},
     "output_type": "execute_result"
    }
   ],
   "source": [
    "Acessorios[0]"
   ]
  },
  {
   "cell_type": "code",
   "execution_count": 22,
   "id": "d7bc280b",
   "metadata": {},
   "outputs": [
    {
     "data": {
      "text/plain": [
       "'Travas elétricas'"
      ]
     },
     "execution_count": 22,
     "metadata": {},
     "output_type": "execute_result"
    }
   ],
   "source": [
    "Acessorios[1]"
   ]
  },
  {
   "cell_type": "code",
   "execution_count": 24,
   "id": "ce98a097",
   "metadata": {},
   "outputs": [
    {
     "data": {
      "text/plain": [
       "'Sensor de chuva'"
      ]
     },
     "execution_count": 24,
     "metadata": {},
     "output_type": "execute_result"
    }
   ],
   "source": [
    "Acessorios[-1] # usando o sihnal de - consigo acessar o ultimo acessorio da lista"
   ]
  },
  {
   "cell_type": "code",
   "execution_count": null,
   "id": "b61f4aa4",
   "metadata": {},
   "outputs": [],
   "source": []
  }
 ],
 "metadata": {
  "kernelspec": {
   "display_name": "Python 3 (ipykernel)",
   "language": "python",
   "name": "python3"
  },
  "language_info": {
   "codemirror_mode": {
    "name": "ipython",
    "version": 3
   },
   "file_extension": ".py",
   "mimetype": "text/x-python",
   "name": "python",
   "nbconvert_exporter": "python",
   "pygments_lexer": "ipython3",
   "version": "3.9.13"
  }
 },
 "nbformat": 4,
 "nbformat_minor": 5
}

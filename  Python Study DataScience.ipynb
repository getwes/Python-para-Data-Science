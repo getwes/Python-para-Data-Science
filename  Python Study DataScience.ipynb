{
 "cells": [
  {
   "cell_type": "markdown",
   "id": "28cb3f63",
   "metadata": {},
   "source": [
    "# Formatação de strings\n"
   ]
  },
  {
   "cell_type": "markdown",
   "id": "dc578813",
   "metadata": {},
   "source": [
    "str.format()"
   ]
  },
  {
   "cell_type": "code",
   "execution_count": 1,
   "id": "b1135cc9",
   "metadata": {},
   "outputs": [
    {
     "name": "stdout",
     "output_type": "stream",
     "text": [
      "ola, wesley!\n"
     ]
    }
   ],
   "source": [
    "print('ola, {}!'.format('wesley'))"
   ]
  },
  {
   "cell_type": "code",
   "execution_count": 2,
   "id": "7c42dd12",
   "metadata": {},
   "outputs": [
    {
     "name": "stdout",
     "output_type": "stream",
     "text": [
      "ola, wesley! este é seu acesso de numero 32\n"
     ]
    }
   ],
   "source": [
    "print('ola, {}! este é seu acesso de numero {}'.format('wesley', 32))"
   ]
  },
  {
   "cell_type": "code",
   "execution_count": null,
   "id": "a17d77e8",
   "metadata": {},
   "outputs": [],
   "source": []
  }
 ],
 "metadata": {
  "kernelspec": {
   "display_name": "Python 3 (ipykernel)",
   "language": "python",
   "name": "python3"
  },
  "language_info": {
   "codemirror_mode": {
    "name": "ipython",
    "version": 3
   },
   "file_extension": ".py",
   "mimetype": "text/x-python",
   "name": "python",
   "nbconvert_exporter": "python",
   "pygments_lexer": "ipython3",
   "version": "3.9.13"
  }
 },
 "nbformat": 4,
 "nbformat_minor": 5
}

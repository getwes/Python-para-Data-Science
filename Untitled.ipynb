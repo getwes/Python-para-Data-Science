{
 "cells": [
  {
   "cell_type": "code",
   "execution_count": 1,
   "id": "4bc99721",
   "metadata": {},
   "outputs": [
    {
     "name": "stdout",
     "output_type": "stream",
     "text": [
      "wesley\n"
     ]
    }
   ],
   "source": [
    "print (\"wesley\")"
   ]
  },
  {
   "cell_type": "code",
   "execution_count": 2,
   "id": "7b7fdf44",
   "metadata": {},
   "outputs": [],
   "source": [
    "var = 3.141592"
   ]
  },
  {
   "cell_type": "code",
   "execution_count": 3,
   "id": "36ff98ed",
   "metadata": {},
   "outputs": [
    {
     "data": {
      "text/plain": [
       "3.141592"
      ]
     },
     "execution_count": 3,
     "metadata": {},
     "output_type": "execute_result"
    }
   ],
   "source": [
    "var\n"
   ]
  },
  {
   "cell_type": "code",
   "execution_count": 4,
   "id": "f34d807d",
   "metadata": {},
   "outputs": [
    {
     "data": {
      "text/plain": [
       "float"
      ]
     },
     "execution_count": 4,
     "metadata": {},
     "output_type": "execute_result"
    }
   ],
   "source": [
    "type(var)"
   ]
  },
  {
   "cell_type": "code",
   "execution_count": 5,
   "id": "d0df1a07",
   "metadata": {},
   "outputs": [
    {
     "data": {
      "text/plain": [
       "3"
      ]
     },
     "execution_count": 5,
     "metadata": {},
     "output_type": "execute_result"
    }
   ],
   "source": [
    "int(var)"
   ]
  },
  {
   "cell_type": "code",
   "execution_count": 6,
   "id": "55cfc012",
   "metadata": {},
   "outputs": [
    {
     "data": {
      "text/plain": [
       "int"
      ]
     },
     "execution_count": 6,
     "metadata": {},
     "output_type": "execute_result"
    }
   ],
   "source": [
    "type(int(var))"
   ]
  },
  {
   "cell_type": "code",
   "execution_count": 1,
   "id": "54e6489b",
   "metadata": {},
   "outputs": [
    {
     "name": "stdout",
     "output_type": "stream",
     "text": [
      "Verdadeiro\n"
     ]
    }
   ],
   "source": [
    "#identacão\n",
    "ano_atual = 2019\n",
    "ano_fabricacao = 2019\n",
    "\n",
    "if (ano_atual == ano_fabricacao):\n",
    "    print('Verdadeiro')\n",
    "else:\n",
    "    print('Falso')"
   ]
  },
  {
   "cell_type": "code",
   "execution_count": 1,
   "id": "50519522",
   "metadata": {},
   "outputs": [],
   "source": [
    "import numpy as np"
   ]
  },
  {
   "cell_type": "code",
   "execution_count": 5,
   "id": "5ac1a667",
   "metadata": {},
   "outputs": [],
   "source": [
    "km = np.loadtxt('carros-km.txt')\n"
   ]
  },
  {
   "cell_type": "code",
   "execution_count": 10,
   "id": "d8a38b43",
   "metadata": {},
   "outputs": [],
   "source": [
    "an = np.loadtxt('carros-anos.txt')"
   ]
  },
  {
   "cell_type": "code",
   "execution_count": 15,
   "id": "35495c23",
   "metadata": {},
   "outputs": [
    {
     "data": {
      "text/plain": [
       "array([2003., 1991., 1990., 2019., 2006., 2012., 2019., 2009., 2010.,\n",
       "       2011., 2002., 2007., 2001., 2019., 2009., 2016., 2012., 2019.,\n",
       "       2016., 2017., 2002., 2019., 1994., 1991., 2019., 2019., 2016.,\n",
       "       2019., 2002., 1991., 1997., 1995., 2018., 1991., 2014., 1995.,\n",
       "       2019., 2019., 2009., 2019., 2013., 2003., 2019., 2002., 2019.,\n",
       "       2002., 2004., 2001., 2019., 2003., 2009., 2006., 2000., 2006.,\n",
       "       2010., 1994., 2007., 2019., 2019., 2019., 2019., 2019., 2017.,\n",
       "       2011., 2001., 1996., 2019., 1994., 2019., 2007., 1994., 2007.,\n",
       "       1997., 2006., 2013., 1994., 2008., 2008., 2019., 2019., 1999.,\n",
       "       2007., 1993., 1995., 2019., 2019., 2016., 2011., 2019., 2002.,\n",
       "       2013., 2017., 2016., 2008., 2018., 2003., 2003., 2004., 2010.,\n",
       "       2019., 2006., 2001., 2019., 2015., 2018., 2017., 1992., 2001.,\n",
       "       1993., 1995., 2003., 2014., 2008., 2013., 2019., 2017., 2019.,\n",
       "       2019., 2006., 2015., 2007., 2005., 2017., 1998., 2019., 1999.,\n",
       "       2019., 2009., 2003., 1994., 2019., 1994., 2019., 2015., 1996.,\n",
       "       1997., 1993., 2019., 1992., 1995., 2019., 1990., 2019., 2019.,\n",
       "       1991., 1990., 2012., 2007., 2013., 2000., 2002., 1996., 1996.,\n",
       "       2015., 1993., 2013., 2013., 2009., 2019., 2019., 2002., 1997.,\n",
       "       1998., 2004., 1996., 2015., 2016., 2005., 1999., 1995., 1993.,\n",
       "       2004., 2013., 1998., 2018., 2019., 2018., 2019., 1990., 2009.,\n",
       "       1990., 2006., 2002., 1991., 1992., 2019., 2019., 2005., 2010.,\n",
       "       2019., 2016., 2019., 2010., 1994., 2001., 2014., 1996., 1993.,\n",
       "       1993., 2001., 2019., 2019., 2019., 2007., 2019., 2016., 2014.,\n",
       "       2019., 2015., 2015., 1996., 2002., 2005., 1995., 1999., 2005.,\n",
       "       2019., 1997., 1990., 2001., 2013., 2019., 2017., 2011., 2005.,\n",
       "       2007., 1993., 1991., 1991., 1997., 2000., 2007., 2006., 2015.,\n",
       "       2008., 2019., 1996., 2019., 2019., 2014., 2004., 2008., 2019.,\n",
       "       2019., 2012., 2019., 1996., 2011., 2019., 2010., 2007., 1994.,\n",
       "       2007., 2014., 1991., 2002., 1996., 1992.])"
      ]
     },
     "execution_count": 15,
     "metadata": {},
     "output_type": "execute_result"
    }
   ],
   "source": [
    "an"
   ]
  },
  {
   "cell_type": "code",
   "execution_count": 12,
   "id": "7494ae6c",
   "metadata": {},
   "outputs": [],
   "source": [
    "nm = open(\"carros-nomes.txt\", \"r\")"
   ]
  },
  {
   "cell_type": "code",
   "execution_count": 13,
   "id": "88d154b0",
   "metadata": {},
   "outputs": [
    {
     "data": {
      "text/plain": [
       "'Jetta Variant\\nPassat\\nCrossfox\\nDS5\\nAston Martin DB4\\nPalio Weekend\\nA5\\nSerie 3 Cabrio\\nDodge Jorney\\nCarens\\nFord Edge\\nCourier\\nS-18\\nJ5\\nF-Type Coupe\\nRAM\\nSerie 1\\nA3\\nXC90\\nRS 3 Sportback\\nPajero Sport\\nSerie 1 M\\nLamborghini Obvious\\nEffa Hafei Picape Bau\\nLamborghini Murcielago\\nUp!\\nFiesta Rocam Sedan\\nSandero Stepway\\nCayman S\\nV40\\nClasse SLS AMG\\nGol G4\\nLinea\\nFord F100\\nJ2\\nAston Martin DBS\\nPajero TR4\\nPolo Sedan\\nCalifornia\\nS60\\nTucson\\nHB20\\nOptima\\nLogan\\nRange Rover Vogue\\nSonata\\nFord New Fiesta Sedan\\nSerie 5 Gran Turismo\\nCR-V\\nFord EcoSport\\nVersa\\nClasse E\\nCarnival\\nAston Martin V8 Vantage Roadster\\nHoggar\\nA1\\nAston Martin DB7 Vantage\\nCLA\\nAccord\\nEXTRA 103EX\\nSorento\\nTiggo\\nNew Fiesta Hatch\\nJeep Renegade\\nLamborghini Ankonian\\nSpace Cross\\nTouareg\\nClasse M\\nLancer Evolution X\\nKangoo Express\\nSW4\\nCadillac ELR\\nDoblo\\nLamborghini Egoista\\nFit\\nC5\\nCeler Hatch\\nHB20S\\nCielo Hatch\\nLivina\\nDucato\\nMarch\\nCadillac XTS sedan\\nLamborghini Centenario\\nHilux\\nGrand Siena\\nSymbol\\nAston Martin V12 GT Zagato\\nFusion\\nA4 Sedan\\nXsara Picasso\\n207 SW\\nStar\\nDoblo Cargo\\nCadillac CTS\\nCayenne\\nFox\\nTiida Hatch\\nDodge Charger\\nFace\\nPrius\\nIdea\\nA8\\nSerie 1 Cabrio\\nEdge\\nCadillac ATS sedan\\nLamborghini Asterion LPI 910-4\\nFrontier\\nSerie 3 Seda\\nLamborghini LM002\\nCadillac XLR\\nA4 Avant\\nEcoSport\\nJ3\\nQ3\\nAston Martin V8 Vantage\\nZ4 Roadster\\nLamborghini Ferruccio\\nFord Ka+\\nSilver Shadow\\nClasse C 63 AMG Touring\\nDiscovery 4\\nVeloster\\nClasse C\\nCamry\\nC5 Tourer\\nR8 GT\\nBongo\\nASX\\nCadillac SRX\\nClasse CL\\n500 Abarth\\nAston Martin Cygnet\\nCadillac STS\\nAston Martin DB9\\nNX 200t\\nAston Martin One-77\\nLamborghini Veneno\\nSentra\\nJumper\\ni30\\nX6\\nVoyage\\nPhantom I Phantom II\\nPassat Variant\\nClio\\nClasse G\\nSilver Ghost\\nSerie 3 M3 Coupe\\nGallardo LP 560\\nFreelander 2\\nGrand Cherokee\\nAston Martin DBR9\\nSoul\\nCadillac BLS\\nRX 350\\nCayman\\nChana Utility\\n308 CC\\nL200 Triton\\nJetta\\nC4 Lounge\\nC4 Pallas\\nEquus\\nClasse GL\\nRange Rover Evoque\\nCherokee\\nPunto\\nGrand Tour\\nFluence\\nEffa Hafei Picape Cabine Simples\\nDurango\\nBoxster\\nTT Roadster\\nLamborghini Jalpa\\nClasse SLK\\nGolf\\nC3 Picasso\\nV50\\nPicanto\\nCadenza\\nEtios Seda\\nAlsvin\\nCadillac ATS\\nSerie 3 M3 Seda\\nClasse S\\nT6\\nAston Martin DB7\\n207 Sedan\\nAston Martin Virage\\nAzera\\nVantage Volante\\nSiena EL\\nPalio Adventure\\nHB20X\\nHR\\nCadillac STS V-Series\\nSerie 1 Coupe\\nSpaceFox\\nC30\\nJ3 Turin\\nClasse B\\nParati\\nCadillac CTS V-Series\\nSedan\\nClasse CLS 63 AMG\\nAircross\\nAston Martin V12 Vantage\\nSandero\\nNew Fiesta\\nXKR\\nX5\\nCadillac DTS\\nPajero Dakar\\nClasse A\\nFord Focus Fastback\\nPartner\\nR8\\nAston Martin DBS Volante\\nMohave\\nFusca\\nChana Family\\nXC40\\nPhantom I Jonckheere Aerodynamic Coupe\\nBoxer\\nChana Cargo\\nDodge Dakota\\nX1\\nGLA\\nRange Rover Sport\\nDS3\\nVeracruz\\nCadillac CTS coupe, sedan, and wagon\\ni30 CW\\nPhantom III\\nA3 Sedan\\nAston Martin DB9 Volante\\nSerie 7 Seda\\nLamborghini Reventon\\nGrand Livina\\nV60\\nEffa Hafei Picape Cabine Dupla\\nBenni Mini\\nUno\\nL200 Savana\\nSanta Fe\\nRS5\\nCerato\\nXC60\\nLS 460L\\nLamborghini Sesto Elemento\\nLamborghini Huracan\\nA7\\nPhantom 2013\\nCadillac Ciel concept\\nClasse GLK\\nAston Martin DB5\\nMacan'"
      ]
     },
     "execution_count": 13,
     "metadata": {},
     "output_type": "execute_result"
    }
   ],
   "source": [
    "nm.read()"
   ]
  },
  {
   "cell_type": "code",
   "execution_count": 14,
   "id": "fcc0f459",
   "metadata": {},
   "outputs": [
    {
     "data": {
      "text/plain": [
       "<_io.TextIOWrapper name='carros-nomes.txt' mode='r' encoding='cp1252'>"
      ]
     },
     "execution_count": 14,
     "metadata": {},
     "output_type": "execute_result"
    }
   ],
   "source": [
    "nm"
   ]
  },
  {
   "cell_type": "code",
   "execution_count": null,
   "id": "d1d3b48b",
   "metadata": {},
   "outputs": [],
   "source": []
  }
 ],
 "metadata": {
  "kernelspec": {
   "display_name": "base",
   "language": "python",
   "name": "python3"
  },
  "language_info": {
   "codemirror_mode": {
    "name": "ipython",
    "version": 3
   },
   "file_extension": ".py",
   "mimetype": "text/x-python",
   "name": "python",
   "nbconvert_exporter": "python",
   "pygments_lexer": "ipython3",
   "version": "3.9.13"
  },
  "vscode": {
   "interpreter": {
    "hash": "e77682966a70801290af20dd66bf25f575666e7d31bf27b3d8080c985b466500"
   }
  }
 },
 "nbformat": 4,
 "nbformat_minor": 5
}

{
 "cells": [
  {
   "cell_type": "code",
   "execution_count": 9,
   "id": "4d4c3b68",
   "metadata": {},
   "outputs": [
    {
     "name": "stdout",
     "output_type": "stream",
     "text": [
      "olá mundo\n"
     ]
    }
   ],
   "source": [
    "print ('olá mundo')"
   ]
  },
  {
   "cell_type": "code",
   "execution_count": null,
   "id": "6e668c62",
   "metadata": {},
   "outputs": [],
   "source": []
  }
 ],
 "metadata": {
  "kernelspec": {
   "display_name": "base",
   "language": "python",
   "name": "python3"
  },
  "language_info": {
   "codemirror_mode": {
    "name": "ipython",
    "version": 3
   },
   "file_extension": ".py",
   "mimetype": "text/x-python",
   "name": "python",
   "nbconvert_exporter": "python",
   "pygments_lexer": "ipython3",
   "version": "3.9.13 (main, Aug 25 2022, 23:51:50) [MSC v.1916 64 bit (AMD64)]"
  },
  "vscode": {
   "interpreter": {
    "hash": "e77682966a70801290af20dd66bf25f575666e7d31bf27b3d8080c985b466500"
   }
  }
 },
 "nbformat": 4,
 "nbformat_minor": 5
}

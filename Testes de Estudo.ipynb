{
 "cells": [
  {
   "cell_type": "code",
   "execution_count": 1,
   "id": "4bc99721",
   "metadata": {},
   "outputs": [
    {
     "name": "stdout",
     "output_type": "stream",
     "text": [
      "wesley\n"
     ]
    }
   ],
   "source": [
    "print (\"wesley\")"
   ]
  },
  {
   "cell_type": "code",
   "execution_count": 2,
   "id": "7b7fdf44",
   "metadata": {},
   "outputs": [],
   "source": [
    "var = 3.141592"
   ]
  },
  {
   "cell_type": "code",
   "execution_count": 3,
   "id": "36ff98ed",
   "metadata": {},
   "outputs": [
    {
     "data": {
      "text/plain": [
       "3.141592"
      ]
     },
     "execution_count": 3,
     "metadata": {},
     "output_type": "execute_result"
    }
   ],
   "source": [
    "var\n"
   ]
  },
  {
   "cell_type": "code",
   "execution_count": 4,
   "id": "f34d807d",
   "metadata": {},
   "outputs": [
    {
     "data": {
      "text/plain": [
       "float"
      ]
     },
     "execution_count": 4,
     "metadata": {},
     "output_type": "execute_result"
    }
   ],
   "source": [
    "type(var)"
   ]
  },
  {
   "cell_type": "code",
   "execution_count": 5,
   "id": "d0df1a07",
   "metadata": {},
   "outputs": [
    {
     "data": {
      "text/plain": [
       "3"
      ]
     },
     "execution_count": 5,
     "metadata": {},
     "output_type": "execute_result"
    }
   ],
   "source": [
    "int(var)"
   ]
  },
  {
   "cell_type": "code",
   "execution_count": 6,
   "id": "55cfc012",
   "metadata": {},
   "outputs": [
    {
     "data": {
      "text/plain": [
       "int"
      ]
     },
     "execution_count": 6,
     "metadata": {},
     "output_type": "execute_result"
    }
   ],
   "source": [
    "type(int(var))"
   ]
  },
  {
   "cell_type": "code",
   "execution_count": 1,
   "id": "54e6489b",
   "metadata": {},
   "outputs": [
    {
     "name": "stdout",
     "output_type": "stream",
     "text": [
      "Verdadeiro\n"
     ]
    }
   ],
   "source": [
    "#identacão\n",
    "ano_atual = 2019\n",
    "ano_fabricacao = 2019\n",
    "\n",
    "if (ano_atual == ano_fabricacao):\n",
    "    print('Verdadeiro')\n",
    "else:\n",
    "    print('Falso')"
   ]
  },
  {
   "cell_type": "code",
   "execution_count": 1,
   "id": "50519522",
   "metadata": {},
   "outputs": [],
   "source": [
    "import numpy as np"
   ]
  },
  {
   "cell_type": "code",
   "execution_count": 16,
   "id": "5ac1a667",
   "metadata": {},
   "outputs": [],
   "source": [
    "km = np.loadtxt('carros-km.txt')\n"
   ]
  },
  {
   "cell_type": "code",
   "execution_count": 17,
   "id": "35a7f9a1",
   "metadata": {},
   "outputs": [
    {
     "data": {
      "text/plain": [
       "array([4.44100e+04, 5.71200e+03, 3.71230e+04, 0.00000e+00, 2.57570e+04,\n",
       "       1.07280e+04, 0.00000e+00, 7.75990e+04, 9.91970e+04, 3.79780e+04,\n",
       "       1.28590e+04, 8.05200e+03, 8.97730e+04, 0.00000e+00, 4.14570e+04,\n",
       "       1.15607e+05, 4.64490e+04, 0.00000e+00, 3.70860e+04, 1.51730e+04,\n",
       "       1.01193e+05, 0.00000e+00, 9.80790e+04, 1.02959e+05, 0.00000e+00,\n",
       "       0.00000e+00, 5.79500e+03, 0.00000e+00, 5.88480e+04, 9.43810e+04,\n",
       "       3.01630e+04, 5.33320e+04, 1.77200e+04, 3.38080e+04, 9.06840e+04,\n",
       "       4.39750e+04, 0.00000e+00, 0.00000e+00, 5.52600e+03, 0.00000e+00,\n",
       "       9.34150e+04, 4.07620e+04, 0.00000e+00, 8.63020e+04, 0.00000e+00,\n",
       "       9.75500e+03, 6.99450e+04, 2.39500e+03, 0.00000e+00, 8.03490e+04,\n",
       "       8.55540e+04, 5.04960e+04, 6.77160e+04, 9.39470e+04, 3.53450e+04,\n",
       "       8.10070e+04, 1.19513e+05, 0.00000e+00, 0.00000e+00, 0.00000e+00,\n",
       "       0.00000e+00, 0.00000e+00, 1.18895e+05, 4.85090e+04, 1.00912e+05,\n",
       "       9.56490e+04, 0.00000e+00, 9.04950e+04, 0.00000e+00, 2.91320e+04,\n",
       "       2.38020e+04, 8.49920e+04, 5.43950e+04, 2.67310e+04, 4.43290e+04,\n",
       "       1.18236e+05, 1.13808e+05, 6.10000e+02, 0.00000e+00, 0.00000e+00,\n",
       "       1.28870e+04, 7.96070e+04, 9.09240e+04, 4.27330e+04, 0.00000e+00,\n",
       "       0.00000e+00, 1.17714e+05, 1.13885e+05, 0.00000e+00, 3.05110e+04,\n",
       "       7.48670e+04, 1.19760e+05, 8.35600e+03, 6.42470e+04, 8.86610e+04,\n",
       "       4.53900e+03, 1.10116e+05, 3.32150e+04, 9.20010e+04, 0.00000e+00,\n",
       "       8.17080e+04, 7.06410e+04, 0.00000e+00, 9.12770e+04, 2.65440e+04,\n",
       "       5.25960e+04, 4.75030e+04, 8.90560e+04, 2.88340e+04, 1.10564e+05,\n",
       "       5.66380e+04, 1.73570e+04, 7.40150e+04, 1.51960e+04, 0.00000e+00,\n",
       "       1.08210e+04, 0.00000e+00, 0.00000e+00, 9.59500e+03, 9.90520e+04,\n",
       "       5.23890e+04, 1.19945e+05, 9.60050e+04, 3.16390e+04, 0.00000e+00,\n",
       "       8.01870e+04, 0.00000e+00, 5.82120e+04, 6.16720e+04, 3.20170e+04,\n",
       "       0.00000e+00, 5.69440e+04, 0.00000e+00, 8.65190e+04, 4.82100e+03,\n",
       "       1.01025e+05, 3.07050e+04, 0.00000e+00, 3.25550e+04, 1.03389e+05,\n",
       "       0.00000e+00, 5.52890e+04, 0.00000e+00, 0.00000e+00, 1.15930e+05,\n",
       "       6.64370e+04, 9.68000e+04, 1.42370e+04, 1.98960e+04, 1.13045e+05,\n",
       "       1.14942e+05, 3.17300e+03, 8.36110e+04, 2.53560e+04, 8.86340e+04,\n",
       "       2.31400e+03, 2.62700e+03, 5.20340e+04, 0.00000e+00, 0.00000e+00,\n",
       "       7.95770e+04, 1.08201e+05, 7.64530e+04, 5.76830e+04, 9.66100e+04,\n",
       "       1.09001e+05, 2.62120e+04, 4.59710e+04, 4.91820e+04, 4.99070e+04,\n",
       "       3.86200e+04, 6.09960e+04, 7.39140e+04, 1.07392e+05, 9.14600e+03,\n",
       "       0.00000e+00, 1.79240e+04, 0.00000e+00, 1.16949e+05, 2.04760e+04,\n",
       "       5.28040e+04, 8.84900e+03, 9.17240e+04, 3.20560e+04, 7.48860e+04,\n",
       "       0.00000e+00, 0.00000e+00, 5.21890e+04, 8.35590e+04, 0.00000e+00,\n",
       "       2.03280e+04, 0.00000e+00, 7.55770e+04, 3.36590e+04, 1.04341e+05,\n",
       "       2.55100e+04, 1.89650e+04, 8.71610e+04, 6.65200e+03, 5.57380e+04,\n",
       "       0.00000e+00, 0.00000e+00, 0.00000e+00, 6.43200e+04, 0.00000e+00,\n",
       "       6.86780e+04, 7.16970e+04, 0.00000e+00, 3.47830e+04, 3.37720e+04,\n",
       "       8.51270e+04, 1.36060e+04, 3.56470e+04, 9.51280e+04, 1.40460e+04,\n",
       "       4.11940e+04, 0.00000e+00, 9.61000e+04, 1.03900e+05, 4.38140e+04,\n",
       "       2.46380e+04, 0.00000e+00, 1.10966e+05, 1.59870e+04, 5.33690e+04,\n",
       "       1.00770e+04, 7.15440e+04, 1.07000e+02, 8.39400e+03, 4.14980e+04,\n",
       "       1.16002e+05, 1.00858e+05, 6.74750e+04, 8.49700e+03, 4.42000e+03,\n",
       "       0.00000e+00, 5.85370e+04, 0.00000e+00, 0.00000e+00, 1.12016e+05,\n",
       "       9.18400e+04, 1.12787e+05, 0.00000e+00, 0.00000e+00, 9.29300e+03,\n",
       "       0.00000e+00, 5.50830e+04, 4.87960e+04, 0.00000e+00, 8.96850e+04,\n",
       "       8.53840e+04, 9.81080e+04, 7.12800e+04, 2.75050e+04, 2.99810e+04,\n",
       "       5.26370e+04, 7.68500e+03, 5.01880e+04])"
      ]
     },
     "execution_count": 17,
     "metadata": {},
     "output_type": "execute_result"
    }
   ],
   "source": [
    "km"
   ]
  },
  {
   "cell_type": "code",
   "execution_count": null,
   "id": "6a08551e",
   "metadata": {},
   "outputs": [],
   "source": []
  },
  {
   "cell_type": "code",
   "execution_count": 3,
   "id": "d8a38b43",
   "metadata": {},
   "outputs": [
    {
     "ename": "NameError",
     "evalue": "name 'np' is not defined",
     "output_type": "error",
     "traceback": [
      "\u001b[1;31m---------------------------------------------------------------------------\u001b[0m",
      "\u001b[1;31mNameError\u001b[0m                                 Traceback (most recent call last)",
      "\u001b[1;32m~\\AppData\\Local\\Temp\\ipykernel_60992\\3028740023.py\u001b[0m in \u001b[0;36m<module>\u001b[1;34m\u001b[0m\n\u001b[1;32m----> 1\u001b[1;33m \u001b[0man\u001b[0m \u001b[1;33m=\u001b[0m \u001b[0mnp\u001b[0m\u001b[1;33m.\u001b[0m\u001b[0mloadtxt\u001b[0m\u001b[1;33m(\u001b[0m\u001b[1;34m'carros-anos.txt'\u001b[0m\u001b[1;33m)\u001b[0m\u001b[1;33m\u001b[0m\u001b[1;33m\u001b[0m\u001b[0m\n\u001b[0m",
      "\u001b[1;31mNameError\u001b[0m: name 'np' is not defined"
     ]
    }
   ],
   "source": [
    "an = np.loadtxt('carros-anos.txt')"
   ]
  },
  {
   "cell_type": "code",
   "execution_count": 15,
   "id": "35495c23",
   "metadata": {},
   "outputs": [
    {
     "data": {
      "text/plain": [
       "array([2003., 1991., 1990., 2019., 2006., 2012., 2019., 2009., 2010.,\n",
       "       2011., 2002., 2007., 2001., 2019., 2009., 2016., 2012., 2019.,\n",
       "       2016., 2017., 2002., 2019., 1994., 1991., 2019., 2019., 2016.,\n",
       "       2019., 2002., 1991., 1997., 1995., 2018., 1991., 2014., 1995.,\n",
       "       2019., 2019., 2009., 2019., 2013., 2003., 2019., 2002., 2019.,\n",
       "       2002., 2004., 2001., 2019., 2003., 2009., 2006., 2000., 2006.,\n",
       "       2010., 1994., 2007., 2019., 2019., 2019., 2019., 2019., 2017.,\n",
       "       2011., 2001., 1996., 2019., 1994., 2019., 2007., 1994., 2007.,\n",
       "       1997., 2006., 2013., 1994., 2008., 2008., 2019., 2019., 1999.,\n",
       "       2007., 1993., 1995., 2019., 2019., 2016., 2011., 2019., 2002.,\n",
       "       2013., 2017., 2016., 2008., 2018., 2003., 2003., 2004., 2010.,\n",
       "       2019., 2006., 2001., 2019., 2015., 2018., 2017., 1992., 2001.,\n",
       "       1993., 1995., 2003., 2014., 2008., 2013., 2019., 2017., 2019.,\n",
       "       2019., 2006., 2015., 2007., 2005., 2017., 1998., 2019., 1999.,\n",
       "       2019., 2009., 2003., 1994., 2019., 1994., 2019., 2015., 1996.,\n",
       "       1997., 1993., 2019., 1992., 1995., 2019., 1990., 2019., 2019.,\n",
       "       1991., 1990., 2012., 2007., 2013., 2000., 2002., 1996., 1996.,\n",
       "       2015., 1993., 2013., 2013., 2009., 2019., 2019., 2002., 1997.,\n",
       "       1998., 2004., 1996., 2015., 2016., 2005., 1999., 1995., 1993.,\n",
       "       2004., 2013., 1998., 2018., 2019., 2018., 2019., 1990., 2009.,\n",
       "       1990., 2006., 2002., 1991., 1992., 2019., 2019., 2005., 2010.,\n",
       "       2019., 2016., 2019., 2010., 1994., 2001., 2014., 1996., 1993.,\n",
       "       1993., 2001., 2019., 2019., 2019., 2007., 2019., 2016., 2014.,\n",
       "       2019., 2015., 2015., 1996., 2002., 2005., 1995., 1999., 2005.,\n",
       "       2019., 1997., 1990., 2001., 2013., 2019., 2017., 2011., 2005.,\n",
       "       2007., 1993., 1991., 1991., 1997., 2000., 2007., 2006., 2015.,\n",
       "       2008., 2019., 1996., 2019., 2019., 2014., 2004., 2008., 2019.,\n",
       "       2019., 2012., 2019., 1996., 2011., 2019., 2010., 2007., 1994.,\n",
       "       2007., 2014., 1991., 2002., 1996., 1992.])"
      ]
     },
     "execution_count": 15,
     "metadata": {},
     "output_type": "execute_result"
    }
   ],
   "source": [
    "an"
   ]
  },
  {
   "cell_type": "code",
   "execution_count": 12,
   "id": "7494ae6c",
   "metadata": {},
   "outputs": [],
   "source": [
    "nm = open(\"carros-nomes.txt\", \"r\")"
   ]
  },
  {
   "cell_type": "code",
   "execution_count": 13,
   "id": "88d154b0",
   "metadata": {},
   "outputs": [
    {
     "data": {
      "text/plain": [
       "'Jetta Variant\\nPassat\\nCrossfox\\nDS5\\nAston Martin DB4\\nPalio Weekend\\nA5\\nSerie 3 Cabrio\\nDodge Jorney\\nCarens\\nFord Edge\\nCourier\\nS-18\\nJ5\\nF-Type Coupe\\nRAM\\nSerie 1\\nA3\\nXC90\\nRS 3 Sportback\\nPajero Sport\\nSerie 1 M\\nLamborghini Obvious\\nEffa Hafei Picape Bau\\nLamborghini Murcielago\\nUp!\\nFiesta Rocam Sedan\\nSandero Stepway\\nCayman S\\nV40\\nClasse SLS AMG\\nGol G4\\nLinea\\nFord F100\\nJ2\\nAston Martin DBS\\nPajero TR4\\nPolo Sedan\\nCalifornia\\nS60\\nTucson\\nHB20\\nOptima\\nLogan\\nRange Rover Vogue\\nSonata\\nFord New Fiesta Sedan\\nSerie 5 Gran Turismo\\nCR-V\\nFord EcoSport\\nVersa\\nClasse E\\nCarnival\\nAston Martin V8 Vantage Roadster\\nHoggar\\nA1\\nAston Martin DB7 Vantage\\nCLA\\nAccord\\nEXTRA 103EX\\nSorento\\nTiggo\\nNew Fiesta Hatch\\nJeep Renegade\\nLamborghini Ankonian\\nSpace Cross\\nTouareg\\nClasse M\\nLancer Evolution X\\nKangoo Express\\nSW4\\nCadillac ELR\\nDoblo\\nLamborghini Egoista\\nFit\\nC5\\nCeler Hatch\\nHB20S\\nCielo Hatch\\nLivina\\nDucato\\nMarch\\nCadillac XTS sedan\\nLamborghini Centenario\\nHilux\\nGrand Siena\\nSymbol\\nAston Martin V12 GT Zagato\\nFusion\\nA4 Sedan\\nXsara Picasso\\n207 SW\\nStar\\nDoblo Cargo\\nCadillac CTS\\nCayenne\\nFox\\nTiida Hatch\\nDodge Charger\\nFace\\nPrius\\nIdea\\nA8\\nSerie 1 Cabrio\\nEdge\\nCadillac ATS sedan\\nLamborghini Asterion LPI 910-4\\nFrontier\\nSerie 3 Seda\\nLamborghini LM002\\nCadillac XLR\\nA4 Avant\\nEcoSport\\nJ3\\nQ3\\nAston Martin V8 Vantage\\nZ4 Roadster\\nLamborghini Ferruccio\\nFord Ka+\\nSilver Shadow\\nClasse C 63 AMG Touring\\nDiscovery 4\\nVeloster\\nClasse C\\nCamry\\nC5 Tourer\\nR8 GT\\nBongo\\nASX\\nCadillac SRX\\nClasse CL\\n500 Abarth\\nAston Martin Cygnet\\nCadillac STS\\nAston Martin DB9\\nNX 200t\\nAston Martin One-77\\nLamborghini Veneno\\nSentra\\nJumper\\ni30\\nX6\\nVoyage\\nPhantom I Phantom II\\nPassat Variant\\nClio\\nClasse G\\nSilver Ghost\\nSerie 3 M3 Coupe\\nGallardo LP 560\\nFreelander 2\\nGrand Cherokee\\nAston Martin DBR9\\nSoul\\nCadillac BLS\\nRX 350\\nCayman\\nChana Utility\\n308 CC\\nL200 Triton\\nJetta\\nC4 Lounge\\nC4 Pallas\\nEquus\\nClasse GL\\nRange Rover Evoque\\nCherokee\\nPunto\\nGrand Tour\\nFluence\\nEffa Hafei Picape Cabine Simples\\nDurango\\nBoxster\\nTT Roadster\\nLamborghini Jalpa\\nClasse SLK\\nGolf\\nC3 Picasso\\nV50\\nPicanto\\nCadenza\\nEtios Seda\\nAlsvin\\nCadillac ATS\\nSerie 3 M3 Seda\\nClasse S\\nT6\\nAston Martin DB7\\n207 Sedan\\nAston Martin Virage\\nAzera\\nVantage Volante\\nSiena EL\\nPalio Adventure\\nHB20X\\nHR\\nCadillac STS V-Series\\nSerie 1 Coupe\\nSpaceFox\\nC30\\nJ3 Turin\\nClasse B\\nParati\\nCadillac CTS V-Series\\nSedan\\nClasse CLS 63 AMG\\nAircross\\nAston Martin V12 Vantage\\nSandero\\nNew Fiesta\\nXKR\\nX5\\nCadillac DTS\\nPajero Dakar\\nClasse A\\nFord Focus Fastback\\nPartner\\nR8\\nAston Martin DBS Volante\\nMohave\\nFusca\\nChana Family\\nXC40\\nPhantom I Jonckheere Aerodynamic Coupe\\nBoxer\\nChana Cargo\\nDodge Dakota\\nX1\\nGLA\\nRange Rover Sport\\nDS3\\nVeracruz\\nCadillac CTS coupe, sedan, and wagon\\ni30 CW\\nPhantom III\\nA3 Sedan\\nAston Martin DB9 Volante\\nSerie 7 Seda\\nLamborghini Reventon\\nGrand Livina\\nV60\\nEffa Hafei Picape Cabine Dupla\\nBenni Mini\\nUno\\nL200 Savana\\nSanta Fe\\nRS5\\nCerato\\nXC60\\nLS 460L\\nLamborghini Sesto Elemento\\nLamborghini Huracan\\nA7\\nPhantom 2013\\nCadillac Ciel concept\\nClasse GLK\\nAston Martin DB5\\nMacan'"
      ]
     },
     "execution_count": 13,
     "metadata": {},
     "output_type": "execute_result"
    }
   ],
   "source": [
    "nm.read()"
   ]
  },
  {
   "cell_type": "code",
   "execution_count": 14,
   "id": "fcc0f459",
   "metadata": {},
   "outputs": [
    {
     "data": {
      "text/plain": [
       "<_io.TextIOWrapper name='carros-nomes.txt' mode='r' encoding='cp1252'>"
      ]
     },
     "execution_count": 14,
     "metadata": {},
     "output_type": "execute_result"
    }
   ],
   "source": [
    "nm"
   ]
  },
  {
   "cell_type": "code",
   "execution_count": 19,
   "id": "1a2bdfee",
   "metadata": {},
   "outputs": [],
   "source": [
    "qi = 89.000\n",
    "aca = 2017\n",
    "ana = 2023"
   ]
  },
  {
   "cell_type": "code",
   "execution_count": 20,
   "id": "a5c79f67",
   "metadata": {},
   "outputs": [],
   "source": [
    "km_media = qi / (ana - aca)"
   ]
  },
  {
   "cell_type": "code",
   "execution_count": 21,
   "id": "d8288e73",
   "metadata": {},
   "outputs": [
    {
     "data": {
      "text/plain": [
       "14.833333333333334"
      ]
     },
     "execution_count": 21,
     "metadata": {},
     "output_type": "execute_result"
    }
   ],
   "source": [
    "km_media"
   ]
  },
  {
   "cell_type": "code",
   "execution_count": 22,
   "id": "ce56d515",
   "metadata": {},
   "outputs": [],
   "source": [
    "km_total = km_media * 6"
   ]
  },
  {
   "cell_type": "code",
   "execution_count": 23,
   "id": "e341aa08",
   "metadata": {},
   "outputs": [
    {
     "data": {
      "text/plain": [
       "89.0"
      ]
     },
     "execution_count": 23,
     "metadata": {},
     "output_type": "execute_result"
    }
   ],
   "source": [
    "km_total"
   ]
  },
  {
   "cell_type": "code",
   "execution_count": 26,
   "id": "ae08e02e",
   "metadata": {},
   "outputs": [],
   "source": [
    "km_mes = km_media / 12"
   ]
  },
  {
   "cell_type": "code",
   "execution_count": 27,
   "id": "5071d8b2",
   "metadata": {},
   "outputs": [
    {
     "data": {
      "text/plain": [
       "1.2361111111111112"
      ]
     },
     "execution_count": 27,
     "metadata": {},
     "output_type": "execute_result"
    }
   ],
   "source": [
    "km_mes"
   ]
  },
  {
   "cell_type": "code",
   "execution_count": 41,
   "id": "ccb63ddb",
   "metadata": {},
   "outputs": [],
   "source": [
    "import numpy as np\n",
    "au = np.loadtxt('carros-anos.txt')"
   ]
  },
  {
   "cell_type": "code",
   "execution_count": 42,
   "id": "e6800f7a",
   "metadata": {},
   "outputs": [
    {
     "data": {
      "text/plain": [
       "array([2003., 1991., 1990., 2019., 2006., 2012., 2019., 2009., 2010.,\n",
       "       2011., 2002., 2007., 2001., 2019., 2009., 2016., 2012., 2019.,\n",
       "       2016., 2017., 2002., 2019., 1994., 1991., 2019., 2019., 2016.,\n",
       "       2019., 2002., 1991., 1997., 1995., 2018., 1991., 2014., 1995.,\n",
       "       2019., 2019., 2009., 2019., 2013., 2003., 2019., 2002., 2019.,\n",
       "       2002., 2004., 2001., 2019., 2003., 2009., 2006., 2000., 2006.,\n",
       "       2010., 1994., 2007., 2019., 2019., 2019., 2019., 2019., 2017.,\n",
       "       2011., 2001., 1996., 2019., 1994., 2019., 2007., 1994., 2007.,\n",
       "       1997., 2006., 2013., 1994., 2008., 2008., 2019., 2019., 1999.,\n",
       "       2007., 1993., 1995., 2019., 2019., 2016., 2011., 2019., 2002.,\n",
       "       2013., 2017., 2016., 2008., 2018., 2003., 2003., 2004., 2010.,\n",
       "       2019., 2006., 2001., 2019., 2015., 2018., 2017., 1992., 2001.,\n",
       "       1993., 1995., 2003., 2014., 2008., 2013., 2019., 2017., 2019.,\n",
       "       2019., 2006., 2015., 2007., 2005., 2017., 1998., 2019., 1999.,\n",
       "       2019., 2009., 2003., 1994., 2019., 1994., 2019., 2015., 1996.,\n",
       "       1997., 1993., 2019., 1992., 1995., 2019., 1990., 2019., 2019.,\n",
       "       1991., 1990., 2012., 2007., 2013., 2000., 2002., 1996., 1996.,\n",
       "       2015., 1993., 2013., 2013., 2009., 2019., 2019., 2002., 1997.,\n",
       "       1998., 2004., 1996., 2015., 2016., 2005., 1999., 1995., 1993.,\n",
       "       2004., 2013., 1998., 2018., 2019., 2018., 2019., 1990., 2009.,\n",
       "       1990., 2006., 2002., 1991., 1992., 2019., 2019., 2005., 2010.,\n",
       "       2019., 2016., 2019., 2010., 1994., 2001., 2014., 1996., 1993.,\n",
       "       1993., 2001., 2019., 2019., 2019., 2007., 2019., 2016., 2014.,\n",
       "       2019., 2015., 2015., 1996., 2002., 2005., 1995., 1999., 2005.,\n",
       "       2019., 1997., 1990., 2001., 2013., 2019., 2017., 2011., 2005.,\n",
       "       2007., 1993., 1991., 1991., 1997., 2000., 2007., 2006., 2015.,\n",
       "       2008., 2019., 1996., 2019., 2019., 2014., 2004., 2008., 2019.,\n",
       "       2019., 2012., 2019., 1996., 2011., 2019., 2010., 2007., 1994.,\n",
       "       2007., 2014., 1991., 2002., 1996., 1992.])"
      ]
     },
     "execution_count": 42,
     "metadata": {},
     "output_type": "execute_result"
    }
   ],
   "source": [
    "au"
   ]
  },
  {
   "cell_type": "code",
   "execution_count": 9,
   "id": "5f5d30e4",
   "metadata": {},
   "outputs": [
    {
     "data": {
      "text/plain": [
       "258"
      ]
     },
     "execution_count": 9,
     "metadata": {},
     "output_type": "execute_result"
    }
   ],
   "source": [
    "len(au)"
   ]
  },
  {
   "cell_type": "code",
   "execution_count": 48,
   "id": "83cc3329",
   "metadata": {},
   "outputs": [
    {
     "data": {
      "text/plain": [
       "array([2019., 2006., 2012., 2019., 2009., 2010., 2011., 2002., 2007.,\n",
       "       2001., 2019., 2009., 2016.])"
      ]
     },
     "execution_count": 48,
     "metadata": {},
     "output_type": "execute_result"
    }
   ],
   "source": [
    "au [3:16]"
   ]
  },
  {
   "cell_type": "code",
   "execution_count": 47,
   "id": "9890cfd5",
   "metadata": {},
   "outputs": [
    {
     "name": "stdout",
     "output_type": "stream",
     "text": [
      "1992.0\n",
      "2003.0\n"
     ]
    }
   ],
   "source": [
    "print(au[-1])\n",
    "print(au[0])\n",
    "\n",
    "\n",
    "\n"
   ]
  },
  {
   "cell_type": "code",
   "execution_count": null,
   "id": "6897dfea",
   "metadata": {},
   "outputs": [],
   "source": []
  }
 ],
 "metadata": {
  "kernelspec": {
   "display_name": "Python 3 (ipykernel)",
   "language": "python",
   "name": "python3"
  },
  "language_info": {
   "codemirror_mode": {
    "name": "ipython",
    "version": 3
   },
   "file_extension": ".py",
   "mimetype": "text/x-python",
   "name": "python",
   "nbconvert_exporter": "python",
   "pygments_lexer": "ipython3",
   "version": "3.9.13"
  },
  "vscode": {
   "interpreter": {
    "hash": "e77682966a70801290af20dd66bf25f575666e7d31bf27b3d8080c985b466500"
   }
  }
 },
 "nbformat": 4,
 "nbformat_minor": 5
}
